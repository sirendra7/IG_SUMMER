{
  "nbformat": 4,
  "nbformat_minor": 0,
  "metadata": {
    "colab": {
      "name": "Copy of week1assignment.ipynb",
      "provenance": [],
      "include_colab_link": true
    },
    "kernelspec": {
      "name": "python3",
      "display_name": "Python 3"
    }
  },
  "cells": [
    {
      "cell_type": "markdown",
      "metadata": {
        "id": "view-in-github",
        "colab_type": "text"
      },
      "source": [
        "<a href=\"https://colab.research.google.com/github/sirendra7/IG_SUMMER/blob/master/Copy_of_week1assignment.ipynb\" target=\"_parent\"><img src=\"https://colab.research.google.com/assets/colab-badge.svg\" alt=\"Open In Colab\"/></a>"
      ]
    },
    {
      "cell_type": "code",
      "metadata": {
        "colab_type": "code",
        "id": "WyAELzMUbjSX",
        "colab": {},
        "cellView": "code"
      },
      "source": [
        "\n",
        "## Import stuff\n",
        " \n",
        "import numpy as np\n",
        "from sklearn import datasets, linear_model, metrics"
      ],
      "execution_count": 0,
      "outputs": []
    },
    {
      "cell_type": "code",
      "metadata": {
        "id": "gK71NIhMcEs5",
        "colab_type": "code",
        "colab": {}
      },
      "source": [
        "## Load the diabetes dataset\n",
        "diabetes = datasets.load_diabetes()\n",
        "diabetes_X = diabetes.data # matrix of dimensions 442x10\n",
        " \n",
        "# Split the data into training/testing sets\n",
        "diabetes_X_train = diabetes_X[:-20]\n",
        "diabetes_X_test = diabetes_X[-20:]\n",
        " \n",
        "# Split the targets into training/testing sets\n",
        "diabetes_y_train = diabetes.target[:-20]\n",
        "diabetes_y_test = diabetes.target[-20:]"
      ],
      "execution_count": 0,
      "outputs": []
    },
    {
      "cell_type": "code",
      "metadata": {
        "id": "XJTg22ybcHsl",
        "colab_type": "code",
        "colab": {
          "base_uri": "https://localhost:8080/",
          "height": 370
        },
        "outputId": "8223ed1b-aab6-488c-d9a1-f21d1f239fd0"
      },
      "source": [
        "# train\n",
        "X = np.array(diabetes_X_train);\n",
        "y =np.array(diabetes_y_train);\n",
        "X=np.insert(X,0,1,axis=1); \n",
        "# train: init\n",
        "W = np.random.random((1,11));\n",
        "#b = \n",
        " \n",
        "learning_rate = 0.0001\n",
        "epochs = 100000\n",
        " \n",
        "# train: gradient descent\n",
        "for i in range(epochs+1):\n",
        "    # calculate predictions\n",
        "    h=W.dot(X.T);\n",
        " \n",
        "    # calculate error and cost (mean squared error)\n",
        "    diff=h-y;\n",
        "    cost=(diff**2).sum()/(2*len(y));\n",
        " \n",
        "    # calculate gradients\n",
        "    grad=diff.dot(X);\n",
        " \n",
        "    # update parameters\n",
        "    W=W-(learning_rate*grad);\n",
        " \n",
        "    # diagnostic output\n",
        "    if i % 5000 == 0: print(\"Epoch %d: %f\" % (i,cost));"
      ],
      "execution_count": 16,
      "outputs": [
        {
          "output_type": "stream",
          "text": [
            "Epoch 0: 14608.428179\n",
            "Epoch 5000: 1703.554920\n",
            "Epoch 10000: 1549.114139\n",
            "Epoch 15000: 1497.658044\n",
            "Epoch 20000: 1477.500077\n",
            "Epoch 25000: 1469.167255\n",
            "Epoch 30000: 1465.535628\n",
            "Epoch 35000: 1463.849084\n",
            "Epoch 40000: 1463.000926\n",
            "Epoch 45000: 1462.530232\n",
            "Epoch 50000: 1462.237536\n",
            "Epoch 55000: 1462.032923\n",
            "Epoch 60000: 1461.874097\n",
            "Epoch 65000: 1461.740285\n",
            "Epoch 70000: 1461.620856\n",
            "Epoch 75000: 1461.510159\n",
            "Epoch 80000: 1461.405085\n",
            "Epoch 85000: 1461.303872\n",
            "Epoch 90000: 1461.205492\n",
            "Epoch 95000: 1461.109330\n",
            "Epoch 100000: 1461.015004\n"
          ],
          "name": "stdout"
        }
      ]
    },
    {
      "cell_type": "code",
      "metadata": {
        "id": "uvSdTn-0cKJL",
        "colab_type": "code",
        "colab": {
          "base_uri": "https://localhost:8080/",
          "height": 138
        },
        "outputId": "d1e2d6d9-3048-4853-892d-05ea48e1782d"
      },
      "source": [
        "# test\n",
        "X_test = np.array(diabetes_X_test);\n",
        "y_test = np.array(diabetes_y_test);\n",
        "X_test = np.insert(X_test, 0, 1, axis=1);\n",
        " \n",
        "# calculate predictions + calculate error and cost (same code as above)\n",
        "\n",
        "\n",
        "h = W.dot(X_test.T);\n",
        "diff = h - y_test;\n",
        "cost = (diff**2).sum() / (2*len(y));\n",
        "print('Coefficients: \\n', W)\n",
        "print(\"Mean squared error: %.2f\" % cost)\n",
        "print(\"=\"*120)"
      ],
      "execution_count": 18,
      "outputs": [
        {
          "output_type": "stream",
          "text": [
            "Coefficients: \n",
            " [[ 152.72399376    4.20558014 -234.62836682  521.00450996  325.85136462\n",
            "   -99.44761787  -85.60975539 -204.53701165  114.95838421  468.74189938\n",
            "    79.92247475]]\n",
            "Mean squared error: 47.25\n",
            "========================================================================================================================\n"
          ],
          "name": "stdout"
        }
      ]
    }
  ]
}
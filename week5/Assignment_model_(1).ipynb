{
  "nbformat": 4,
  "nbformat_minor": 0,
  "metadata": {
    "colab": {
      "name": "Assignment_model (1).ipynb",
      "provenance": [],
      "collapsed_sections": [],
      "include_colab_link": true
    },
    "kernelspec": {
      "display_name": "Python 3",
      "language": "python",
      "name": "python3"
    },
    "language_info": {
      "codemirror_mode": {
        "name": "ipython",
        "version": 3
      },
      "file_extension": ".py",
      "mimetype": "text/x-python",
      "name": "python",
      "nbconvert_exporter": "python",
      "pygments_lexer": "ipython3",
      "version": "3.7.6"
    }
  },
  "cells": [
    {
      "cell_type": "markdown",
      "metadata": {
        "id": "view-in-github",
        "colab_type": "text"
      },
      "source": [
        "<a href=\"https://colab.research.google.com/github/sirendra7/IG_SUMMER/blob/master/week5/Assignment_model_(1).ipynb\" target=\"_parent\"><img src=\"https://colab.research.google.com/assets/colab-badge.svg\" alt=\"Open In Colab\"/></a>"
      ]
    },
    {
      "cell_type": "markdown",
      "metadata": {
        "colab_type": "text",
        "id": "iHagJG6Wul4Y"
      },
      "source": [
        "This assignment serves three purposes:\n",
        "\n",
        "--> Introducing you to RandomForestClassifier\n",
        "--> Trying to implement Dense CNN model using the skills you gained till now\n",
        "\n",
        "This assingemnt might not contain a line to line explaination of the task to be performed. You got to start visiting the documentations or any example online to help you out with queries like syntax and parameters.\n",
        "\n",
        "The third and the most crucial purpose of all is helping you understand how to implement different models for the same task.\n",
        "Here, we have given you the task of hand-written digit classification on MNIST dataset, first using RandomForestClassifier and second using Dense CNN and if you wish, you could also try to implement this task from the model of previous assingment with of-course a little bit of tweaking. "
      ]
    },
    {
      "cell_type": "code",
      "metadata": {
        "colab_type": "code",
        "id": "YuKiwK3Dn9Bq",
        "colab": {}
      },
      "source": [
        "import pandas as pd\n",
        "import numpy as np\n",
        "import tensorflow as tf"
      ],
      "execution_count": 0,
      "outputs": []
    },
    {
      "cell_type": "code",
      "metadata": {
        "id": "B-KFkIoszRYl",
        "colab_type": "code",
        "colab": {}
      },
      "source": [
        "from scipy.io import loadmat\n",
        "from six.moves import urllib\n",
        "mnist_alternative_url = \"https://github.com/amplab/datascience-sp14/raw/master/lab7/mldata/mnist-original.mat\"\n",
        "mnist_path = \"./mnist-original.mat\"\n",
        "response = urllib.request.urlopen(mnist_alternative_url)\n",
        "with open(mnist_path, \"wb\") as f:\n",
        "    content = response.read()\n",
        "    f.write(content)\n",
        "mnist_raw = loadmat(mnist_path)\n",
        "mnist = {\n",
        "\"data\": mnist_raw[\"data\"].T,\n",
        "\"target\": mnist_raw[\"label\"][0],\n",
        "\"COL_NAMES\": [\"label\", \"data\"],\n",
        "\"DESCR\": \"mldata.org dataset: mnist-original\",\n",
        "}"
      ],
      "execution_count": 0,
      "outputs": []
    },
    {
      "cell_type": "code",
      "metadata": {
        "colab_type": "code",
        "id": "jk-UYMUzn9B1",
        "colab": {
          "base_uri": "https://localhost:8080/",
          "height": 50
        },
        "outputId": "5e65602c-7ece-457a-a7ed-0b7315aad08c"
      },
      "source": [
        "# store data in X and target in y\n",
        "\n",
        "X=mnist[\"data\"]\n",
        "y=mnist[\"target\"]\n",
        "\n",
        "#Our data is expected to has 70000 instances(rows) and 784 features(columns)\n",
        "\n",
        "print(\"Shape of X:\"+str(X.shape))\n",
        "print(\"Shape of Y:\"+str(y.shape))"
      ],
      "execution_count": 11,
      "outputs": [
        {
          "output_type": "stream",
          "text": [
            "Shape of X:(70000, 784)\n",
            "Shape of Y:(70000,)\n"
          ],
          "name": "stdout"
        }
      ]
    },
    {
      "cell_type": "code",
      "metadata": {
        "colab_type": "code",
        "id": "Ch8difi7n9B5",
        "colab": {}
      },
      "source": [
        " import matplotlib.pyplot as plt\n",
        "\n"
      ],
      "execution_count": 0,
      "outputs": []
    },
    {
      "cell_type": "code",
      "metadata": {
        "colab_type": "code",
        "id": "SHTW7MPan9B9",
        "outputId": "a6d76e44-9b73-4619-fd58-0c977c4b0088",
        "colab": {
          "base_uri": "https://localhost:8080/",
          "height": 265
        }
      },
      "source": [
        "# pick any example from z, rehshape it to 28x28 type and display it using matplot\n",
        "\n",
        "\n",
        "img = X[0].reshape([28,28])\n",
        "plt.imshow(img, cmap = 'gray_r')\n",
        "plt.show()\n"
      ],
      "execution_count": 13,
      "outputs": [
        {
          "output_type": "display_data",
          "data": {
            "image/png": "[encoded data removed]",
            "text/plain": [
              "<Figure size 432x288 with 1 Axes>"
            ]
          },
          "metadata": {
            "tags": [],
            "needs_background": "light"
          }
        }
      ]
    },
    {
      "cell_type": "code",
      "metadata": {
        "colab_type": "code",
        "id": "_rL9RDX-n9CB",
        "colab": {}
      },
      "source": [
        "# To randomize out data set we have to shuffle it\n",
        "#np.random.permutation() gives us an np.array of numbers in range given range\n",
        "#  reshuffle X and y\n",
        "X = np.random.permutation(X)\n",
        "y = np.random.permutation(y)\n",
        "\n"
      ],
      "execution_count": 0,
      "outputs": []
    },
    {
      "cell_type": "code",
      "metadata": {
        "colab_type": "code",
        "id": "SFG3ztPkn9CE",
        "colab": {}
      },
      "source": [
        "# we are dividing the data in 60,000 and 10,000 for training and testing\n",
        "X_train = X[:60000]\n",
        "y_train = y[:60000]\n",
        "X_test = X[60000:]\n",
        "y_test = y[60000:]\n"
      ],
      "execution_count": 0,
      "outputs": []
    },
    {
      "cell_type": "code",
      "metadata": {
        "colab_type": "code",
        "id": "36J2MsdEn9CI",
        "colab": {}
      },
      "source": [
        "\n",
        "from sklearn.ensemble import RandomForestClassifier\n",
        "from sklearn.metrics import mean_absolute_error\n",
        "\n",
        "#create a rondom forest classifier with random state of 42 and fit your train varaibles \n",
        "\n",
        "\n",
        "\n",
        "# Import the model we are using\n",
        "from sklearn.ensemble import RandomForestRegressor\n",
        "# Instantiate model with 1000 decisi on trees\n",
        "rf = RandomForestRegressor(random_state = 42)\n",
        "# Train the model on training data\n",
        "rf.fit(X_train, y_train);\n",
        "\n"
      ],
      "execution_count": 0,
      "outputs": []
    },
    {
      "cell_type": "code",
      "metadata": {
        "colab_type": "code",
        "id": "fw8rI-Bvn9CL",
        "colab": {}
      },
      "source": [
        " # predict your train X varariable and find mean_absolute error it should be around 0.00333\n",
        "# repeat the same for test X it should be around 0.205\n"
      ],
      "execution_count": 0,
      "outputs": []
    },
    {
      "cell_type": "code",
      "metadata": {
        "colab_type": "code",
        "id": "rFgNqrkqn9CO",
        "colab": {}
      },
      "source": [
        "rf_val_mae = mean_absolute_error(rf_model.predict(X_train), y_train)\n",
        "print(\"Validation MAE for Random Forest Model (Train set): {}\".format(rf_val_mae))"
      ],
      "execution_count": 0,
      "outputs": []
    },
    {
      "cell_type": "code",
      "metadata": {
        "colab_type": "code",
        "id": "dbRSns41n9CR",
        "colab": {}
      },
      "source": [
        "rf_val_mae = mean_absolute_error(rf_model.predict(X_test), y_test)\n",
        "print(\"Validation MAE for Random Forest Model (Test set): {}\".format(rf_val_mae))"
      ],
      "execution_count": 0,
      "outputs": []
    },
    {
      "cell_type": "code",
      "metadata": {
        "colab_type": "code",
        "id": "TSq2hH6Vn9CW",
        "colab": {}
      },
      "source": [
        "# Now that RandonForest has been explored, we'll be implementing Dense CNN model\n",
        "mnist = tf.keras.datasets.mnist\n",
        "(X_train, y_train), (X_test, y_test) = mnist.load_data()"
      ],
      "execution_count": 0,
      "outputs": []
    },
    {
      "cell_type": "code",
      "metadata": {
        "colab_type": "code",
        "id": "ehWGQ6VNn9Cb",
        "colab": {}
      },
      "source": [
        "# First order of business is creating the model\n",
        "# for that purpose we've already imported the required things \n",
        "# your task is to use the above imported modules and whatever skills you have harnessed and build a model from scratch\n",
        "# JUST A REMINDER , WE TRIED TO INTRODUCE YOU ALL WITH MOST OF THE LIBRARIES WHICH WE USE ON A DAILY BASIS\n",
        "# ONE OF THEM IS KERAS USING WHICH YOU'LL IMPLEMENT THIS LAST ASSINGMENT \n",
        "# BUT DON'T WORRY THAT ITS NEW. THE CONCEPTS WHICH YOU ALL HAVE GAINED UPTIL NOW WILL ONLY BE USED \n",
        "# DON'T PANIC THAT YOU DON'T KNOW KERAS\n",
        "# JUST GIVE IT A TRY. CREATING A MODEL IS SIMILAR TO THAT IN PYTORCH.\n",
        "\n",
        "from tensorflow.keras.models import Sequential\n",
        "from tensorflow.keras.layers import Dense,Dropout,BatchNormalization\n",
        "\n",
        "# keras initializer\n"
      ],
      "execution_count": 0,
      "outputs": []
    },
    {
      "cell_type": "code",
      "metadata": {
        "colab_type": "code",
        "id": "r0P5nGgan9Cg",
        "colab": {}
      },
      "source": [
        "# model\n",
        "tf_model = Sequential([\n",
        "                       #BatchNormalization(),\n",
        "                       Flatten(input_shape=(28, 28)),\n",
        "                       Dense(128, activation= 'relu'),\n",
        "                       Dense(10)\n",
        "])\n"
      ],
      "execution_count": 0,
      "outputs": []
    },
    {
      "cell_type": "code",
      "metadata": {
        "colab_type": "code",
        "id": "6zsw6k7kn9Cj",
        "colab": {}
      },
      "source": [
        "# after creating the model compile it with proper optimizer and loss function \n",
        "# You can refer to any keras model training for your reference \n",
        "tf_model.compile(optimizer='adam',\n",
        "              loss=tf.keras.losses.SparseCategoricalCrossentropy(from_logits=True),\n",
        "              metrics=['accuracy'])\n"
      ],
      "execution_count": 0,
      "outputs": []
    },
    {
      "cell_type": "code",
      "metadata": {
        "colab_type": "code",
        "id": "ZsNYrB4En9Cm",
        "colab": {}
      },
      "source": [
        "# Fit your train datasets\n",
        "tf_model.fit(X_train, y_train, epochs=10)"
      ],
      "execution_count": 0,
      "outputs": []
    },
    {
      "cell_type": "code",
      "metadata": {
        "colab_type": "code",
        "id": "3iZnY1S8n9Cq",
        "colab": {}
      },
      "source": [
        "# After fitting try your model with test dataset\n",
        "# see the accuracy\n",
        "test_loss, test_acc = tf_model.evaluate(X_test,  y_test, verbose=2)\n",
        "print('\\nTest accuracy:', test_acc)\n"
      ],
      "execution_count": 0,
      "outputs": []
    },
    {
      "cell_type": "code",
      "metadata": {
        "colab_type": "code",
        "id": "Src3IB64n9C0",
        "colab": {}
      },
      "source": [
        "# Understand how and where to use which model and jot down your observations in a text file in the github repository."
      ],
      "execution_count": 0,
      "outputs": []
    }
  ]
}
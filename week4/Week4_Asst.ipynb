{
  "nbformat": 4,
  "nbformat_minor": 0,
  "metadata": {
    "kernelspec": {
      "display_name": "Python 3",
      "language": "python",
      "name": "python3"
    },
    "language_info": {
      "codemirror_mode": {
        "name": "ipython",
        "version": 3
      },
      "file_extension": ".py",
      "mimetype": "text/x-python",
      "name": "python",
      "nbconvert_exporter": "python",
      "pygments_lexer": "ipython3",
      "version": "3.8.2"
    },
    "colab": {
      "name": "Week4_Asst.ipynb",
      "provenance": [],
      "include_colab_link": true
    }
  },
  "cells": [
    {
      "cell_type": "markdown",
      "metadata": {
        "id": "view-in-github",
        "colab_type": "text"
      },
      "source": [
        "<a href=\"https://colab.research.google.com/github/sirendra7/IG_SUMMER/blob/master/week4/Week4_Asst.ipynb\" target=\"_parent\"><img src=\"https://colab.research.google.com/assets/colab-badge.svg\" alt=\"Open In Colab\"/></a>"
      ]
    },
    {
      "cell_type": "code",
      "metadata": {
        "id": "JU2w8QXvQbLL",
        "colab_type": "code",
        "colab": {}
      },
      "source": [
        "# import Numpy and Pandas\n",
        "import numpy as np\n",
        "import pandas as pd\n",
        "\n",
        "# for reading and displaying images, import imread and matplotlib\n",
        "#import imread\n",
        "from matplotlib import pyplot as plt\n",
        "# for creating validation set, import train_test_split; understand how the function works\n",
        "\n",
        "# for evaluating the model, import accuracy_score from sklearn\n",
        "#from sklearn import accuracy_score\n",
        "# Import necessary PyTorch libraries and modules\n",
        "from torch import nn, optim\n",
        "# Import dataset from pytorch vision - Fashion MNIST\n",
        "import torchvision\n",
        "import torchvision.transforms as transforms\n",
        "from torchvision import datasets \n",
        "\n",
        "import torch\n",
        "\n",
        "from time import time\n"
      ],
      "execution_count": 0,
      "outputs": []
    },
    {
      "cell_type": "code",
      "metadata": {
        "id": "kLEGX5dWQbLR",
        "colab_type": "code",
        "colab": {}
      },
      "source": [
        "# load dataset and use dataloader to send the data in batches.\n",
        "# Convert data to tensor and normalise i\n",
        "trainset = datasets.FashionMNIST(r'..\\input\\MNIST', download=True, train=True, transform=transform)\n",
        "trainloader = torch.utils.data.DataLoader(trainset, batch_size=64, shuffle=True)\n",
        "\n",
        "testset = datasets.FashionMNIST(r'..\\input\\MNIST', download=True, train=False, transform=transform)\n",
        "testloader = torch.utils.data.DataLoader(testset, batch_size=64, shuffle=True)\n",
        "transform = transforms.Compose([transforms.ToTensor(),\n",
        "                              transforms.Normalize((0.5,), (0.5,)),\n",
        "                              ])"
      ],
      "execution_count": 0,
      "outputs": []
    },
    {
      "cell_type": "code",
      "metadata": {
        "id": "Zu4b1keBh5_0",
        "colab_type": "code",
        "colab": {}
      },
      "source": [
        ""
      ],
      "execution_count": 0,
      "outputs": []
    },
    {
      "cell_type": "code",
      "metadata": {
        "id": "x3kLDtWrQbLV",
        "colab_type": "code",
        "colab": {
          "base_uri": "https://localhost:8080/",
          "height": 50
        },
        "outputId": "4530f515-2850-4221-f2b9-5871b3805eca"
      },
      "source": [
        "# Visualise some random images from the datset. Check the shape of tensors to get a better understanding of the dataset.\n",
        "dataiter = iter(trainloader) # creating a iterator\n",
        "images, labels = dataiter.next() # creating images for image and lables for image number (0 to 9) \n",
        "\n",
        "print(images.shape)\n",
        "print(labels.shape)"
      ],
      "execution_count": 9,
      "outputs": [
        {
          "output_type": "stream",
          "text": [
            "torch.Size([64, 1, 28, 28])\n",
            "torch.Size([64])\n"
          ],
          "name": "stdout"
        }
      ]
    },
    {
      "cell_type": "code",
      "metadata": {
        "id": "xnnobvQRQbLa",
        "colab_type": "code",
        "colab": {
          "base_uri": "https://localhost:8080/",
          "height": 151
        },
        "outputId": "2391df25-c8fd-4f1a-d784-d2bc5e611225"
      },
      "source": [
        "# Define the network architecture(model) using a class.\n",
        "# Use conv2d layers, activation function after each such layer, use Batchnorm and Maxpooling. Play with these parameters,\n",
        "# layers and things like kernel size, stride etc and see how it affects your results.\n",
        "# Finally use a linear layer in the end\n",
        "# Define the forward pass\n",
        "input_size = 784\n",
        "hidden_sizes = [128, 64]\n",
        "output_size = 10\n",
        "\n",
        "model = nn.Sequential(nn.Linear(input_size, hidden_sizes[0]),\n",
        "                      nn.ReLU(),\n",
        "                      nn.Linear(hidden_sizes[0], hidden_sizes[1]),\n",
        "                      nn.ReLU(),\n",
        "                      nn.Linear(hidden_sizes[1], output_size),\n",
        "                      nn.LogSoftmax(dim=1))\n",
        "print(model)\n",
        "\n"
      ],
      "execution_count": 10,
      "outputs": [
        {
          "output_type": "stream",
          "text": [
            "Sequential(\n",
            "  (0): Linear(in_features=784, out_features=128, bias=True)\n",
            "  (1): ReLU()\n",
            "  (2): Linear(in_features=128, out_features=64, bias=True)\n",
            "  (3): ReLU()\n",
            "  (4): Linear(in_features=64, out_features=10, bias=True)\n",
            "  (5): LogSoftmax()\n",
            ")\n"
          ],
          "name": "stdout"
        }
      ]
    },
    {
      "cell_type": "code",
      "metadata": {
        "id": "ts4KpkMQQbLf",
        "colab_type": "code",
        "colab": {
          "base_uri": "https://localhost:8080/",
          "height": 353
        },
        "outputId": "5eaeda6e-2e18-446a-b9c5-66eac0cb3bc0"
      },
      "source": [
        "# Define training the model\n",
        "    # defining the optimizer\n",
        "    # defining the loss function\n",
        "    # For each epoch and in each batch:\n",
        "        # clear the gradients\n",
        "        # compute the model output\n",
        "        # calculate loss; store and print them if you wish to print and see if the loss is decreasing.\n",
        "        # propagate loss backwards\n",
        "        # update model weights\n",
        "criterion = nn.NLLLoss() \n",
        "images, labels = next(iter(trainloader))\n",
        "images = images.view(images.shape[0], -1)\n",
        "\n",
        "logps = model(images) # log probabilities\n",
        "loss = criterion(logps, labels) # NLL loss\n",
        "loss.backward()\n",
        "optimizer = optim.SGD(model.parameters(), lr=0.003, momentum=0.9)\n",
        "#time0 = time()\n",
        "epochs = 20\n",
        "for e in range(epochs):\n",
        "    running_loss = 0\n",
        "    for images, labels in trainloader:\n",
        "        # Flatten MNIST images into a 784 long vector\n",
        "        images = images.view(images.shape[0], -1)\n",
        "    \n",
        "        # Training pass\n",
        "        optimizer.zero_grad()\n",
        "        \n",
        "        output = model(images)\n",
        "        loss = criterion(output, labels)\n",
        "        \n",
        "        #This is where the model learns by backpropagating\n",
        "        loss.backward()\n",
        "        \n",
        "        #And optimizes its weights here\n",
        "        optimizer.step()\n",
        "        \n",
        "        running_loss += loss.item()\n",
        "    else:\n",
        "        print(\"Epoch {} - Training loss: {}\".format(e, running_loss/len(trainloader)))\n",
        "        "
      ],
      "execution_count": 18,
      "outputs": [
        {
          "output_type": "stream",
          "text": [
            "Epoch 0 - Training loss: 0.25024083165376426\n",
            "Epoch 1 - Training loss: 0.24495748912633608\n",
            "Epoch 2 - Training loss: 0.2387735028661835\n",
            "Epoch 3 - Training loss: 0.23254101801274427\n",
            "Epoch 4 - Training loss: 0.22474036067088785\n",
            "Epoch 5 - Training loss: 0.22099150395564943\n",
            "Epoch 6 - Training loss: 0.21540876342130622\n",
            "Epoch 7 - Training loss: 0.21321254147331853\n",
            "Epoch 8 - Training loss: 0.2063952735277699\n",
            "Epoch 9 - Training loss: 0.20144650743587184\n",
            "Epoch 10 - Training loss: 0.197584718934445\n",
            "Epoch 11 - Training loss: 0.19416361917326572\n",
            "Epoch 12 - Training loss: 0.19033168099010422\n",
            "Epoch 13 - Training loss: 0.18685225767494518\n",
            "Epoch 14 - Training loss: 0.18183515196654207\n",
            "Epoch 15 - Training loss: 0.17814029005370033\n",
            "Epoch 16 - Training loss: 0.17363584080913555\n",
            "Epoch 17 - Training loss: 0.16935315244455837\n",
            "Epoch 18 - Training loss: 0.1670288737974505\n",
            "Epoch 19 - Training loss: 0.16160286394263634\n"
          ],
          "name": "stdout"
        }
      ]
    },
    {
      "cell_type": "code",
      "metadata": {
        "id": "4P9OWm5hQbLj",
        "colab_type": "code",
        "colab": {}
      },
      "source": [
        "     \n",
        "# Evaluate model on test set. This is done in the same way as for training but only till calculating output.\n",
        "# Then,convert output from tensor to numpy format.\n",
        "# convert to class labels\n",
        "# store the predictions\n",
        "# calculate accuracy of model\n",
        "# Try to improve accuracy by changing parameters, optimizer, loss functions, epochs etc\n",
        "# and explain your observations in a text file in the Github repository.\n",
        "correct_count, all_count = 0, 0\n",
        "for images,labels in testloader:\n",
        "  for i in range(len(labels)):\n",
        "    img = images[i].view(1, 784)\n",
        "    with torch.no_grad():\n",
        "        logps = model(img)\n",
        "\n",
        "    \n",
        "    ps = torch.exp(logps)\n",
        "    probab = list(ps.numpy()[0])\n",
        "    pred_label = probab.index(max(probab))\n",
        "    true_label = labels.numpy()[i]\n",
        "    if(true_label == pred_label):\n",
        "      correct_count += 1\n",
        "    all_count += 1\n",
        "\n"
      ],
      "execution_count": 0,
      "outputs": []
    },
    {
      "cell_type": "markdown",
      "metadata": {
        "id": "I4a4AY9hQbLn",
        "colab_type": "text"
      },
      "source": [
        "  \n",
        "  Try to improve accuracy by changing parameters, optimizer, loss functions, epochs etc\n",
        "  and explain your observations in a text file in the Github repository.\n",
        "  "
      ]
    },
    {
      "cell_type": "code",
      "metadata": {
        "id": "Lb7PSQ4gQbLo",
        "colab_type": "code",
        "colab": {
          "base_uri": "https://localhost:8080/",
          "height": 67
        },
        "outputId": "27f6d9f8-7052-4960-9814-67c827a90df3"
      },
      "source": [
        "# check predictions by printing the output image for random test inputs.\n",
        "\n",
        "print(\"Number Of Images Tested =\", all_count)\n",
        "print(\"\\nModel Accuracy =\", (correct_count/all_count))\n",
        "        "
      ],
      "execution_count": 20,
      "outputs": [
        {
          "output_type": "stream",
          "text": [
            "Number Of Images Tested = 10000\n",
            "\n",
            "Model Accuracy = 0.8871\n"
          ],
          "name": "stdout"
        }
      ]
    },
    {
      "cell_type": "code",
      "metadata": {
        "id": "D3PDQj0vQbLs",
        "colab_type": "code",
        "colab": {}
      },
      "source": [
        ""
      ],
      "execution_count": 0,
      "outputs": []
    }
  ]
}